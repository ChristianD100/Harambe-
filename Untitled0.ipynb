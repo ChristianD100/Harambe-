{
  "nbformat": 4,
  "nbformat_minor": 0,
  "metadata": {
    "colab": {
      "provenance": [],
      "authorship_tag": "ABX9TyNVT+gUuIGWjA/XmVoGSQJb",
      "include_colab_link": true
    },
    "kernelspec": {
      "name": "python3",
      "display_name": "Python 3"
    },
    "language_info": {
      "name": "python"
    }
  },
  "cells": [
    {
      "cell_type": "markdown",
      "metadata": {
        "id": "view-in-github",
        "colab_type": "text"
      },
      "source": [
        "<a href=\"https://colab.research.google.com/github/ChristianD100/Harambe-/blob/main/Untitled0.ipynb\" target=\"_parent\"><img src=\"https://colab.research.google.com/assets/colab-badge.svg\" alt=\"Open In Colab\"/></a>"
      ]
    },
    {
      "cell_type": "code",
      "execution_count": null,
      "metadata": {
        "id": "mif1l9Dn6yNv"
      },
      "outputs": [],
      "source": [
        "Christian Daccarett Python Sin Límites: Un viaje de CERO a programador PRO"
      ]
    },
    {
      "cell_type": "markdown",
      "source": [
        "# 1.5 Historia de Python\n",
        "\n",
        "<font color=\"orange\"> Python es un lenguaje de programación de propósito general, interpretado y orientado a objetos.</font>\n",
        "\n",
        "Python es un lenguaje de programación general, creado por *Guido van Rossum* en 1990 en los Países Bajos y nombrado en honor al grupo de comedia británico Monty Python's Flying Circus. Se ha vuelto muy popular en la industria y la academia debido a su sintaxis simple y extensa biblioteca.\n",
        "\n",
        "Python es utilizado en una variedad de aplicaciones, desde el motor de búsqueda de Google hasta proyectos críticos de la NASA y transacciones en la Bolsa de Nueva York. Es un *lenguaje interpretado*, lo que significa que se ejecuta línea por línea a través de un intérprete.\n",
        "\n",
        "Además, Python es un lenguaje de programación *orientado a objetos*, lo que significa que los datos se crean a partir de clases que definen propiedades y métodos para manipular objetos. Esto lo hace adecuado para desarrollar software reutilizable y potente.\n",
        "\n",
        "[Video Guido Van Rossum](https://www.youtube.com/watch?app=desktop&v=ucD_1ryKKm0)\n",
        "\n",
        "<p style=\"text-align:center;\"><img src=\"https://imgtr.ee/images/2023/09/12/8c75d9ede246510e16d122b7372d1413.jpeg\"  width = \"200\" height = \"200\" border=\"0\"/ alt=\"Logo\"></p>\n"
      ],
      "metadata": {
        "id": "0xsdrqEk61V6"
      }
    },
    {
      "cell_type": "code",
      "source": [],
      "metadata": {
        "id": "XQJ5nPiu-5lu"
      },
      "execution_count": null,
      "outputs": []
    },
    {
      "cell_type": "markdown",
      "source": [
        "🧐 Pregunta 1: ¿Investiga que indica las siglas \"IDLE\" de Python y cuál es su función? Además, inserta una imagen representativa de la misma (no muy grande) y ten encuenta que el color del texto debe ser de una tonalidad azul.\n",
        "IDLE es el entorno de desarrollo integrado de Python. IDLE tiene las siguientes características: escrito 100% en Python puro, usando el kit de herramientas GUI tkinter. multiplataforma: funciona en su mayoría igual en Windows, Unix y macOS.\n",
        "<font size=\"4\" color=\"darkblue\">**IDLE es el entorno de desarrollo integrado de Python. IDLE tiene las siguientes características: escrito 100% en Python puro, usando el kit de herramientas GUI tkinter. multiplataforma: funciona en su mayoría igual en Windows, Unix y macOS.**</font>\n",
        "\n",
        "<p style=\"text-align:center;\"><img src=https://ih1.redbubble.net/image.5220669244.5369/st,small,507x507-pad,600x600,f8f8f8.jpg  width = \"200\" height = \"200\" border=\"0\"/ alt=\"Logo\"></p>\n",
        "\n",
        "🤨 Pregunta 2: ANALIZANDO UN PROGRAMA LLAMADO ¡HOLA!\n",
        "Supongamos que se encuentran el siguiente programa que le pida al usuario que ingrese su nombre. El programa en realidad es un \"bot\" que debe responder con un mensaje que diga hola al usuario, utilizando su nombre y además que le diga ¿En qué le puedo ayudar?, utilizando nuevamente su nombre.\n",
        "Lee el siguiente artículo: ¿Qué es un bot? o escrito de otro modo ¿Qué hace un bot?\n",
        "El objetivo es que trates de analizar y enteder que indica cada línea, es decir, coloca un comentario según tu interpretació y lo que hayas investigado por Internet.\n",
        "Logo\n"
      ],
      "metadata": {
        "id": "4Nk9pI1j8w2s"
      }
    },
    {
      "cell_type": "code",
      "source": [
        "def usuario():  Define la funcion del programa usuario\n",
        "    nombre = input(\"Por favor ingrese su nombre: \") Define la funcion del programa input en la cual pones tu nombre para el bot\n",
        "    print(f\"Hola, {nombre}! Encantado de conocerte.\") Es la funcion print la cual es una frase que el bot tiene predeterminada donde o que cambia es el nombre que pusiste en la funcion input\n",
        "    print() Este es estetico para que se separen las oraciones\n",
        "    print(f\"¿En qué te puedo ayudar, {nombre}?\") Print f es la funcion que pega tu nombre en otra funcion en este caso print.\n",
        "\n",
        "usuario()"
      ],
      "metadata": {
        "id": "EMBD4S0C-qIZ"
      },
      "execution_count": null,
      "outputs": []
    },
    {
      "cell_type": "code",
      "source": [
        "def usuario():\n",
        "    nombre = input(\"Por favor ingrese su nombre: \")\n",
        "    print(f\"Hola, {nombre}! Encantado de conocerte.\")\n",
        "    print()\n",
        "    print(f\"¿En qué te puedo ayudar, {nombre}?\")\n",
        "\n",
        "usuario()\\\n"
      ],
      "metadata": {
        "colab": {
          "base_uri": "https://localhost:8080/"
        },
        "id": "c5m748bVAclb",
        "outputId": "c5aa9a24-90eb-4c89-d1bd-1ddf1398dd98"
      },
      "execution_count": null,
      "outputs": [
        {
          "output_type": "stream",
          "name": "stdout",
          "text": [
            "Por favor ingrese su nombre: Christian Daccarett\n",
            "Hola, Christian Daccarett! Encantado de conocerte.\n",
            "\n",
            "¿En qué te puedo ayudar, Christian Daccarett?\n"
          ]
        }
      ]
    },
    {
      "cell_type": "markdown",
      "source": [
        "# 1.7 Usando Python para realizar cálculos matemáticos\n",
        "\n",
        "Los programas Python pueden realizar todo tipo de cálculos matemáticos y mostrar el resultado. Para mostrar la suma, resta, multiplicación y división de dos números, x e y, utilice el siguiente código:\n",
        "\n",
        "```\n",
        "print(x + y)\n",
        "print(x - y)\n",
        "print(x * y)\n",
        "print(x / y)\n",
        "```\n",
        "\n",
        "**Ejemplo ilustrativo:** Evalúa la siguiente expresión matemática y evalúa su resultado.\n",
        "\n",
        "![image.png](data:image/png;base64,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)"
      ],
      "metadata": {
        "id": "Xxm_qj2IAmNX"
      }
    },
    {
      "cell_type": "code",
      "source": [
        "print((10.5+(2*3))/(45-3.5))"
      ],
      "metadata": {
        "colab": {
          "base_uri": "https://localhost:8080/"
        },
        "id": "wxTgtIjCA4Z3",
        "outputId": "51c65923-796c-4842-8d6c-0b29d2f055a4"
      },
      "execution_count": null,
      "outputs": [
        {
          "output_type": "stream",
          "name": "stdout",
          "text": [
            "0.39759036144578314\n"
          ]
        }
      ]
    },
    {
      "cell_type": "code",
      "source": [
        "round(5/9*(100.5-32),2)"
      ],
      "metadata": {
        "colab": {
          "base_uri": "https://localhost:8080/"
        },
        "id": "H5fK19NKNbx_",
        "outputId": "7f76c369-67be-4ab5-90de-6fa83ecfc680"
      },
      "execution_count": null,
      "outputs": [
        {
          "output_type": "execute_result",
          "data": {
            "text/plain": [
              "38.06"
            ]
          },
          "metadata": {},
          "execution_count": 3
        }
      ]
    },
    {
      "cell_type": "code",
      "source": [
        "bobo = round(5/9*(100.5-32),2)\n",
        "\n",
        "print(f\"100.5 grados fahrenteit es, {bobo} grados centigrados\")\n"
      ],
      "metadata": {
        "colab": {
          "base_uri": "https://localhost:8080/"
        },
        "id": "7ZMBcP-tOeZD",
        "outputId": "80275c7d-971b-422a-f406-e7dce51c0538"
      },
      "execution_count": null,
      "outputs": [
        {
          "output_type": "stream",
          "name": "stdout",
          "text": [
            "100.5 grados fahrenteit es, 38.06 grados centigrados\n"
          ]
        }
      ]
    },
    {
      "cell_type": "markdown",
      "source": [
        "🧐 **Pregunta 3:** <font color=\"blue\">(Calculando expresiones matemáticas)</font>\n",
        "\n",
        " Escribe un programa que muestre el resultado de las siguientes expresiones:\n",
        "\n",
        "![image.png](data:image/png;base64,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)\n"
      ],
      "metadata": {
        "id": "_-od5ICoRQXB"
      }
    },
    {
      "cell_type": "code",
      "source": [
        "boborado = round((9.8*6)+(10+4)/(1-0.5),2)\n",
        "print(f\"la respuesta de la a es,{boborado}\")"
      ],
      "metadata": {
        "colab": {
          "base_uri": "https://localhost:8080/"
        },
        "id": "1MQWQtsoOzAS",
        "outputId": "0d772a96-686b-4841-cf4b-f55abf42b2a1"
      },
      "execution_count": null,
      "outputs": [
        {
          "output_type": "stream",
          "name": "stdout",
          "text": [
            "la respuesta de la a es,86.8\n"
          ]
        }
      ]
    },
    {
      "cell_type": "code",
      "source": [
        "import math\n",
        "\n",
        "boborado = ((2**3)-math.log(10000))/(math.sqrt(16))\n",
        "print(f\"la respuesta de la b es {boborado}\")"
      ],
      "metadata": {
        "colab": {
          "base_uri": "https://localhost:8080/"
        },
        "id": "J50dtnBpRT4A",
        "outputId": "1f4609a5-3b68-48f1-e49b-e10439410c54"
      },
      "execution_count": null,
      "outputs": [
        {
          "output_type": "stream",
          "name": "stdout",
          "text": [
            "la respuesta de la b es -0.3025850929940459\n"
          ]
        }
      ]
    },
    {
      "cell_type": "markdown",
      "source": [
        " **Pregunta 4:** <font color=\"blue\">(Suma de una serie aritmética) </font>\n",
        "\n",
        "Escribe un programa que muestre el resultado de  1 + 2 + 3 + 4 + 5 + 6 + 7 + 8 + 9 + 10."
      ],
      "metadata": {
        "id": "H4CXmOhNUT3S"
      }
    },
    {
      "cell_type": "code",
      "source": [
        "boborado = (1+2+3+4+5+6+7+8+9+10)\n",
        "print(f\"la respuesta de la 4 es {boborado}\")"
      ],
      "metadata": {
        "colab": {
          "base_uri": "https://localhost:8080/"
        },
        "id": "avL3NC98UXyU",
        "outputId": "bf43582c-2147-4098-b9de-b2e5c8242fd9"
      },
      "execution_count": null,
      "outputs": [
        {
          "output_type": "stream",
          "name": "stdout",
          "text": [
            "la respuesta de la 4 es 55\n"
          ]
        }
      ]
    },
    {
      "cell_type": "markdown",
      "source": [
        "🤨  **Pregunta 5:**  <font color=\"blue\">(Área y perímetro de un círculo)</font>\n",
        "\n",
        "Escriba un programa que muestre el área y perímetro de un círculo que tiene un radio de 5.5 cm."
      ],
      "metadata": {
        "id": "cgprLLsa7tJq"
      }
    },
    {
      "cell_type": "code",
      "source": [
        "\n",
        "# Define el radio: boborado =\n",
        "\n",
        "\n",
        "# Calcula el área del radio (usa una aproximación de pi de 5 lugares decimales):\n",
        "\n",
        "\n",
        "# Calcula el perímetro de la circunferencia:\n",
        "\n",
        "\n",
        "# Muestra los resultados:\n",
        "   # Radio del círculo en centímetros.\n",
        "   # Área del círculo en centímetros cuadrados\n",
        "   # Perímetro del círculo en"
      ],
      "metadata": {
        "id": "YBXyPXZX7n3I"
      },
      "execution_count": 2,
      "outputs": []
    },
    {
      "cell_type": "code",
      "source": [
        "import math\n",
        "print(\"el radio es 5.5 cm\")\n",
        "boborado = (3.1416*(5.5*5.5))\n",
        "print(f\" el area del circulo es {boborado}cm2\")\n",
        "\n",
        "alvabobo = (2*3.1416*5.5)\n",
        "print(f\"el perimetro del circulo es {alvabobo}cm\")"
      ],
      "metadata": {
        "colab": {
          "base_uri": "https://localhost:8080/"
        },
        "id": "TI8WdbCn8fOm",
        "outputId": "f7a0273e-28e0-445c-ff21-372aaa3a2f22"
      },
      "execution_count": 13,
      "outputs": [
        {
          "output_type": "stream",
          "name": "stdout",
          "text": [
            "el radio es 5.5 cm\n",
            " el area del circulo es 95.0334cm2\n",
            "el perimetro del circulo es 34.5576cm\n"
          ]
        }
      ]
    },
    {
      "cell_type": "markdown",
      "source": [
        "# 1.8 Creación de archivos de código fuente de Python\n",
        "\n",
        "Te preguntarás, ¿Cómo se crea y ejecuta un archivo de código Python, con el fin de que éste se pueda implementar en cualquier momento?\n",
        "\n",
        "La creación de archivos de código fuente de Python se refiere al proceso de crear archivos de texto que contienen código en el lenguaje de programación Python. Estos archivos de código fuente son la base de cualquier programa Python y contienen las instrucciones y comandos que le dicen a la computadora qué hacer.\n",
        "\n",
        "Dos puntos clave, para la creación de archivos de código Python son:\n",
        "\n",
        "1. **Extensión de archivo**: Los archivos de código fuente de Python generalmente tienen la extensión \".py\". Por ejemplo, un archivo de código fuente Python podría llamarse \"mi_programa.py\".\n",
        "\n",
        "2. **Editor de texto o IDE**: Puedes crear archivos de código fuente Python utilizando un editor de texto simple (como Notepad en Windows, Vim o Nano en Linux) o un Entorno de Desarrollo Integrado (IDE) diseñado específicamente para Python, como PyCharm, Visual Studio Code, Google Colab, Jupyter Notebook, entre otros. Los IDEs a menudo ofrecen características adicionales, como resaltado de sintaxis y depuración, que facilitan la escritura y depuración de código.\n",
        "\n",
        "Dentro de **Google Colab**, puedes crear un archivo de código fuente de Python utilizando celdas de código. Cada celda de código actúa como un bloque de código independiente y puedes ejecutarlas en cualquier orden. Aquí te muestro cómo crear un nuevo archivo de código fuente de Python en Google Colab:\n",
        "\n",
        "1. Abre un nuevo cuaderno en Google Colab o utiliza uno existente.\n",
        "\n",
        "2. Inserta una celda de código desde el menú \"Insertar\" o usando un atajo de teclado.\n",
        "\n",
        "3. Escribe tu código Python en la celda de código.\n",
        "\n",
        "4. Ejecuta la celda para ver los resultados.\n",
        "\n",
        "5. Para guardar el código, utiliza \"Archivo\" > \"Guardar una copia en GitHub\" o \"Guardar una copia en Drive\". También puedes descargarlo como un archivo .ipynb o .py.\n",
        "\n",
        "Con estos pasos, habrás creado y guardado un archivo de código fuente de Python en Google Colab.\n"
      ],
      "metadata": {
        "id": "wu4jxm94-tCi"
      }
    },
    {
      "cell_type": "markdown",
      "source": [
        "### **Ejemplo Ilustrativo**\n",
        "\n",
        "**Paso 1:** Tomemos la **pregunta 2**, copiémosla y peguémosla en un nuevo Notebook.\n",
        "\n",
        "**Paso 2:** Guardemos ésta como un archivo .py, es decir, se genera un programa de archivo de código fuente.\n",
        "\n",
        "**Paso 3:** Crearemos una cuenta github: Si aún no tienes una cuenta en GitHub, ve a https://github.com y regístrate. Es gratuito para proyectos públicos.\n",
        "\n",
        "**Paso 4:** Inicia sesión en GitHub: Inicia sesión en tu cuenta de GitHub utilizando tus credenciales.\n",
        "\n",
        "**Paso 5:** Crea un nuevo repositorio: Haz clic en el botón verde \"New\" (Nuevo) en la esquina superior derecha de tu página de inicio en GitHub.\n",
        "Dale un nombre a tu repositorio y, opcionalmente, una descripción.\n",
        "Puedes configurar la visibilidad del repositorio como público o privado, según tus necesidades. Puedes seleccionar la opción \"Initialize this repository with a README\" si deseas crear un archivo README.md inicial en tu repositorio. Esto es útil para proporcionar información sobre tu proyecto.\n",
        "Clona el repositorio en tu computadora:\n",
        "\n",
        "Una vez creado el repositorio, debes clonarlo en tu computadora local. Puedes hacerlo usando la URL que GitHub proporciona en la página del repositorio. Utiliza el comando git clone en la línea de comandos"
      ],
      "metadata": {
        "id": "Lw2WjM3f-zV4"
      }
    },
    {
      "cell_type": "code",
      "source": [
        "alvarado = (\"no le gustan los platanos\")\n",
        "\n",
        "print(f\" alvarado por mas que sea un mono {alvarado}\")"
      ],
      "metadata": {
        "colab": {
          "base_uri": "https://localhost:8080/"
        },
        "id": "Hn9KoTnK-5gf",
        "outputId": "7e518895-8031-45a1-ad8b-09067d43620d"
      },
      "execution_count": 15,
      "outputs": [
        {
          "output_type": "stream",
          "name": "stdout",
          "text": [
            " alvarado por mas que sea un mono no le gustan los platanos\n"
          ]
        }
      ]
    },
    {
      "cell_type": "markdown",
      "source": [
        "https://github.com/ChristianD100/Harambe-.git\n"
      ],
      "metadata": {
        "id": "ZJmV6Cz1Bj7h"
      }
    }
  ]
}